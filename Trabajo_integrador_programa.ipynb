{
 "cells": [
  {
   "cell_type": "markdown",
   "id": "66b53275",
   "metadata": {},
   "source": [
    "ANALISIS EMPÍRICO\n",
    "\n",
    "Elabora un programa que permita al usuario ingresar 100 números enteros y luego calcule la media de esos valores. "
   ]
  },
  {
   "cell_type": "code",
   "execution_count": null,
   "id": "b128a1b5",
   "metadata": {},
   "outputs": [
    {
     "name": "stdout",
     "output_type": "stream",
     "text": [
      "La media de los numeros es 49.5\n",
      "El tiempo de ejecución fue 0.994682 milisegundos\n",
      "------------------\n",
      "La media de los numeros es 499.5\n",
      "El tiempo de ejecución fue 1.002550 milisegundos\n",
      "------------------\n",
      "La media de los numeros es 4999.5\n",
      "El tiempo de ejecución fue 5.023003 milisegundos\n",
      "------------------\n"
     ]
    },
    {
     "name": "stdout",
     "output_type": "stream",
     "text": [
      "La media de los numeros es 49999.5\n",
      "El tiempo de ejecución fue 225.983143 milisegundos\n",
      "------------------\n",
      "La media de los numeros es 499999.5\n",
      "El tiempo de ejecución fue 1547.567368 milisegundos\n",
      "------------------\n"
     ]
    },
    {
     "data": {
      "text/plain": [
       "499999.5"
      ]
     },
     "execution_count": 27,
     "metadata": {},
     "output_type": "execute_result"
    }
   ],
   "source": [
    "import random\n",
    "import time\n",
    "def sacar_Media(n):\n",
    "\n",
    "    inicio = time.time()                                        #Tiempo inicial\n",
    "    \n",
    "    numeros = list(range(n))\n",
    "    suma = 0\n",
    "\n",
    "    for i in range(n):\n",
    "        suma += numeros[i]\n",
    "\n",
    "    media = suma / n\n",
    "    print(f\"La media de los numeros es {media}\")\n",
    "\n",
    "    fin = time.time()                                           #Tiempo final \n",
    "\n",
    "    tiempo_total = (fin - inicio) * 1000\n",
    "    print(f\"El tiempo de ejecución fue {tiempo_total:.6f} milisegundos\")\n",
    "    print(\"------------------\")\n",
    "\n",
    "    return media\n",
    "\n",
    "sacar_Media(100)\n",
    "sacar_Media(1000)\n",
    "sacar_Media(10000)\n",
    "sacar_Media(100000)\n",
    "sacar_Media(1000000)"
   ]
  },
  {
   "cell_type": "markdown",
   "id": "61f1c35c",
   "metadata": {},
   "source": [
    "ANALISIS TEÓRICO\n",
    "A continuacion detallamos en cada línea de comando la cantidad de operaciones necesitadas para construir la funcion T(n) para que luego determinenos por medio de la notacion Big-O el comportamiento del probleama"
   ]
  },
  {
   "cell_type": "code",
   "execution_count": null,
   "id": "084992e8",
   "metadata": {},
   "outputs": [],
   "source": [
    "import random\n",
    "import time\n",
    "def sacar_Media(n):     \n",
    "    numeros = list(range(n))    # 3 operacion\n",
    "    suma = 0                    # 1 operacion\n",
    "    for i in range(n):          # 2*n operacion\n",
    "        suma += numeros[i]\n",
    "    media = suma / n            # 2 operaciones \n",
    "    print(f\"La media de los numeros es {media}\")  # 1 operacion\n",
    "    return media                                  # 1 operacion\n",
    "\n",
    "# Total: 3 + 1 + 2*n + 2 + 1 + 1 \n",
    "#         = 2*n + 8 ->  O(n) \n",
    "#         -> Comportamiento lienal"
   ]
  }
 ],
 "metadata": {
  "kernelspec": {
   "display_name": "Python 3",
   "language": "python",
   "name": "python3"
  },
  "language_info": {
   "codemirror_mode": {
    "name": "ipython",
    "version": 3
   },
   "file_extension": ".py",
   "mimetype": "text/x-python",
   "name": "python",
   "nbconvert_exporter": "python",
   "pygments_lexer": "ipython3",
   "version": "3.11.9"
  }
 },
 "nbformat": 4,
 "nbformat_minor": 5
}
